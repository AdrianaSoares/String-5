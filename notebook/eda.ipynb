{
 "cells": [
  {
   "cell_type": "code",
   "execution_count": 3,
   "id": "1da3cf84",
   "metadata": {},
   "outputs": [],
   "source": [
    "import pandas as pd\n",
    "from pathlib import Path # Biblioteca pathlib facilita caminhos e diretórios no python"
   ]
  },
  {
   "cell_type": "code",
   "execution_count": 4,
   "id": "01c665b9",
   "metadata": {},
   "outputs": [],
   "source": [
    "df = pd.read_csv(Path(\"../data/turnover.csv\"))"
   ]
  },
  {
   "cell_type": "code",
   "execution_count": 5,
   "id": "1d31e85b",
   "metadata": {},
   "outputs": [
    {
     "data": {
      "text/html": [
       "<div>\n",
       "<style scoped>\n",
       "    .dataframe tbody tr th:only-of-type {\n",
       "        vertical-align: middle;\n",
       "    }\n",
       "\n",
       "    .dataframe tbody tr th {\n",
       "        vertical-align: top;\n",
       "    }\n",
       "\n",
       "    .dataframe thead th {\n",
       "        text-align: right;\n",
       "    }\n",
       "</style>\n",
       "<table border=\"1\" class=\"dataframe\">\n",
       "  <thead>\n",
       "    <tr style=\"text-align: right;\">\n",
       "      <th></th>\n",
       "      <th>Idade</th>\n",
       "      <th>Turnover</th>\n",
       "      <th>ViagensTrabalho</th>\n",
       "      <th>Departamento</th>\n",
       "      <th>DistanciaCasa</th>\n",
       "      <th>NivelEducacao</th>\n",
       "      <th>Educacao</th>\n",
       "      <th>NumeroEmpregado</th>\n",
       "      <th>NivelSatisfacaoAmbiente</th>\n",
       "      <th>Genero</th>\n",
       "      <th>...</th>\n",
       "      <th>PercentualAumentoSalario</th>\n",
       "      <th>AvaliacaoDesempenho</th>\n",
       "      <th>QtdeHorasTrabalhadasPadrao</th>\n",
       "      <th>TotalAnosTrabalhados</th>\n",
       "      <th>TreinamentosUltimoAno</th>\n",
       "      <th>BalanceamentoVidaTrabalho</th>\n",
       "      <th>QtdeAnosNaEmpresaAtual</th>\n",
       "      <th>QtdeAnosNoCargoAtual</th>\n",
       "      <th>QtdeAnosDesdeUltimaPromocao</th>\n",
       "      <th>QtdeAnosComGerenteAtual</th>\n",
       "    </tr>\n",
       "  </thead>\n",
       "  <tbody>\n",
       "    <tr>\n",
       "      <th>0</th>\n",
       "      <td>41.0</td>\n",
       "      <td>Yes</td>\n",
       "      <td>Travel_Rarely</td>\n",
       "      <td>Sales</td>\n",
       "      <td>1</td>\n",
       "      <td>2</td>\n",
       "      <td>Life Sciences</td>\n",
       "      <td>1</td>\n",
       "      <td>2</td>\n",
       "      <td>Female</td>\n",
       "      <td>...</td>\n",
       "      <td>11</td>\n",
       "      <td>3</td>\n",
       "      <td>80</td>\n",
       "      <td>8</td>\n",
       "      <td>0</td>\n",
       "      <td>1</td>\n",
       "      <td>6</td>\n",
       "      <td>4</td>\n",
       "      <td>0</td>\n",
       "      <td>5</td>\n",
       "    </tr>\n",
       "    <tr>\n",
       "      <th>1</th>\n",
       "      <td>49.0</td>\n",
       "      <td>No</td>\n",
       "      <td>Travel_Frequently</td>\n",
       "      <td>Research &amp; Development</td>\n",
       "      <td>8</td>\n",
       "      <td>1</td>\n",
       "      <td>Life Sciences</td>\n",
       "      <td>2</td>\n",
       "      <td>3</td>\n",
       "      <td>Male</td>\n",
       "      <td>...</td>\n",
       "      <td>23</td>\n",
       "      <td>4</td>\n",
       "      <td>80</td>\n",
       "      <td>10</td>\n",
       "      <td>3</td>\n",
       "      <td>3</td>\n",
       "      <td>10</td>\n",
       "      <td>7</td>\n",
       "      <td>1</td>\n",
       "      <td>7</td>\n",
       "    </tr>\n",
       "    <tr>\n",
       "      <th>2</th>\n",
       "      <td>37.0</td>\n",
       "      <td>Yes</td>\n",
       "      <td>Travel_Rarely</td>\n",
       "      <td>Research &amp; Development</td>\n",
       "      <td>2</td>\n",
       "      <td>2</td>\n",
       "      <td>Other</td>\n",
       "      <td>4</td>\n",
       "      <td>4</td>\n",
       "      <td>Male</td>\n",
       "      <td>...</td>\n",
       "      <td>15</td>\n",
       "      <td>3</td>\n",
       "      <td>80</td>\n",
       "      <td>7</td>\n",
       "      <td>3</td>\n",
       "      <td>3</td>\n",
       "      <td>0</td>\n",
       "      <td>0</td>\n",
       "      <td>0</td>\n",
       "      <td>0</td>\n",
       "    </tr>\n",
       "    <tr>\n",
       "      <th>3</th>\n",
       "      <td>33.0</td>\n",
       "      <td>No</td>\n",
       "      <td>Travel_Frequently</td>\n",
       "      <td>Research &amp; Development</td>\n",
       "      <td>3</td>\n",
       "      <td>4</td>\n",
       "      <td>Life Sciences</td>\n",
       "      <td>5</td>\n",
       "      <td>4</td>\n",
       "      <td>Female</td>\n",
       "      <td>...</td>\n",
       "      <td>11</td>\n",
       "      <td>3</td>\n",
       "      <td>80</td>\n",
       "      <td>8</td>\n",
       "      <td>3</td>\n",
       "      <td>3</td>\n",
       "      <td>8</td>\n",
       "      <td>7</td>\n",
       "      <td>3</td>\n",
       "      <td>0</td>\n",
       "    </tr>\n",
       "    <tr>\n",
       "      <th>4</th>\n",
       "      <td>27.0</td>\n",
       "      <td>No</td>\n",
       "      <td>Travel_Rarely</td>\n",
       "      <td>Research &amp; Development</td>\n",
       "      <td>2</td>\n",
       "      <td>1</td>\n",
       "      <td>Medical</td>\n",
       "      <td>7</td>\n",
       "      <td>1</td>\n",
       "      <td>Male</td>\n",
       "      <td>...</td>\n",
       "      <td>12</td>\n",
       "      <td>3</td>\n",
       "      <td>80</td>\n",
       "      <td>6</td>\n",
       "      <td>3</td>\n",
       "      <td>3</td>\n",
       "      <td>2</td>\n",
       "      <td>2</td>\n",
       "      <td>2</td>\n",
       "      <td>2</td>\n",
       "    </tr>\n",
       "  </tbody>\n",
       "</table>\n",
       "<p>5 rows × 30 columns</p>\n",
       "</div>"
      ],
      "text/plain": [
       "   Idade Turnover    ViagensTrabalho            Departamento  DistanciaCasa  \\\n",
       "0   41.0      Yes      Travel_Rarely                   Sales              1   \n",
       "1   49.0       No  Travel_Frequently  Research & Development              8   \n",
       "2   37.0      Yes      Travel_Rarely  Research & Development              2   \n",
       "3   33.0       No  Travel_Frequently  Research & Development              3   \n",
       "4   27.0       No      Travel_Rarely  Research & Development              2   \n",
       "\n",
       "   NivelEducacao       Educacao  NumeroEmpregado  NivelSatisfacaoAmbiente  \\\n",
       "0              2  Life Sciences                1                        2   \n",
       "1              1  Life Sciences                2                        3   \n",
       "2              2          Other                4                        4   \n",
       "3              4  Life Sciences                5                        4   \n",
       "4              1        Medical                7                        1   \n",
       "\n",
       "   Genero  ...  PercentualAumentoSalario  AvaliacaoDesempenho  \\\n",
       "0  Female  ...                        11                    3   \n",
       "1    Male  ...                        23                    4   \n",
       "2    Male  ...                        15                    3   \n",
       "3  Female  ...                        11                    3   \n",
       "4    Male  ...                        12                    3   \n",
       "\n",
       "   QtdeHorasTrabalhadasPadrao TotalAnosTrabalhados  TreinamentosUltimoAno  \\\n",
       "0                          80                    8                      0   \n",
       "1                          80                   10                      3   \n",
       "2                          80                    7                      3   \n",
       "3                          80                    8                      3   \n",
       "4                          80                    6                      3   \n",
       "\n",
       "  BalanceamentoVidaTrabalho  QtdeAnosNaEmpresaAtual  QtdeAnosNoCargoAtual  \\\n",
       "0                         1                       6                     4   \n",
       "1                         3                      10                     7   \n",
       "2                         3                       0                     0   \n",
       "3                         3                       8                     7   \n",
       "4                         3                       2                     2   \n",
       "\n",
       "  QtdeAnosDesdeUltimaPromocao QtdeAnosComGerenteAtual  \n",
       "0                           0                       5  \n",
       "1                           1                       7  \n",
       "2                           0                       0  \n",
       "3                           3                       0  \n",
       "4                           2                       2  \n",
       "\n",
       "[5 rows x 30 columns]"
      ]
     },
     "execution_count": 5,
     "metadata": {},
     "output_type": "execute_result"
    }
   ],
   "source": [
    "df.head()"
   ]
  },
  {
   "cell_type": "code",
   "execution_count": 6,
   "id": "88ee7f3e",
   "metadata": {},
   "outputs": [
    {
     "data": {
      "text/plain": [
       "Idade              0.098639\n",
       "Turnover           0.000000\n",
       "ViagensTrabalho    0.000000\n",
       "Departamento       0.000000\n",
       "DistanciaCasa      0.000000\n",
       "dtype: float64"
      ]
     },
     "execution_count": 6,
     "metadata": {},
     "output_type": "execute_result"
    }
   ],
   "source": [
    "df.isna().mean().sort_values(ascending = False).head()"
   ]
  },
  {
   "cell_type": "code",
   "execution_count": 7,
   "id": "19609910",
   "metadata": {},
   "outputs": [],
   "source": [
    "df = df.dropna(subset='Idade')"
   ]
  },
  {
   "cell_type": "code",
   "execution_count": 8,
   "id": "6f1429cd",
   "metadata": {},
   "outputs": [
    {
     "data": {
      "text/plain": [
       "Idade              0.0\n",
       "Turnover           0.0\n",
       "ViagensTrabalho    0.0\n",
       "Departamento       0.0\n",
       "DistanciaCasa      0.0\n",
       "dtype: float64"
      ]
     },
     "execution_count": 8,
     "metadata": {},
     "output_type": "execute_result"
    }
   ],
   "source": [
    "df.isna().mean().sort_values(ascending = False).head()"
   ]
  },
  {
   "cell_type": "code",
   "execution_count": 9,
   "id": "196694ad",
   "metadata": {},
   "outputs": [
    {
     "data": {
      "text/plain": [
       "1325"
      ]
     },
     "execution_count": 9,
     "metadata": {},
     "output_type": "execute_result"
    }
   ],
   "source": [
    "len(df)"
   ]
  },
  {
   "cell_type": "code",
   "execution_count": 11,
   "id": "fdf13da2",
   "metadata": {},
   "outputs": [
    {
     "name": "stdout",
     "output_type": "stream",
     "text": [
      "<class 'pandas.core.frame.DataFrame'>\n",
      "Index: 1325 entries, 0 to 1469\n",
      "Data columns (total 30 columns):\n",
      " #   Column                       Non-Null Count  Dtype  \n",
      "---  ------                       --------------  -----  \n",
      " 0   Idade                        1325 non-null   float64\n",
      " 1   Turnover                     1325 non-null   object \n",
      " 2   ViagensTrabalho              1325 non-null   object \n",
      " 3   Departamento                 1325 non-null   object \n",
      " 4   DistanciaCasa                1325 non-null   int64  \n",
      " 5   NivelEducacao                1325 non-null   int64  \n",
      " 6   Educacao                     1325 non-null   object \n",
      " 7   NumeroEmpregado              1325 non-null   int64  \n",
      " 8   NivelSatisfacaoAmbiente      1325 non-null   int64  \n",
      " 9   Genero                       1325 non-null   object \n",
      " 10  PagamentoHora                1325 non-null   int64  \n",
      " 11  Envolvimento                 1325 non-null   int64  \n",
      " 12  NivelCargo                   1325 non-null   int64  \n",
      " 13  Cargo                        1325 non-null   object \n",
      " 14  NivelSatisfacaoCargo         1325 non-null   int64  \n",
      " 15  EstadoCivil                  1325 non-null   object \n",
      " 16  RendaMensal                  1325 non-null   int64  \n",
      " 17  QtdeEmpresasTrabalhadas      1325 non-null   int64  \n",
      " 18  Acima18Anos                  1325 non-null   object \n",
      " 19  HoraExtra                    1325 non-null   object \n",
      " 20  PercentualAumentoSalario     1325 non-null   int64  \n",
      " 21  AvaliacaoDesempenho          1325 non-null   int64  \n",
      " 22  QtdeHorasTrabalhadasPadrao   1325 non-null   int64  \n",
      " 23  TotalAnosTrabalhados         1325 non-null   int64  \n",
      " 24  TreinamentosUltimoAno        1325 non-null   int64  \n",
      " 25  BalanceamentoVidaTrabalho    1325 non-null   int64  \n",
      " 26  QtdeAnosNaEmpresaAtual       1325 non-null   int64  \n",
      " 27  QtdeAnosNoCargoAtual         1325 non-null   int64  \n",
      " 28  QtdeAnosDesdeUltimaPromocao  1325 non-null   int64  \n",
      " 29  QtdeAnosComGerenteAtual      1325 non-null   int64  \n",
      "dtypes: float64(1), int64(20), object(9)\n",
      "memory usage: 320.9+ KB\n"
     ]
    }
   ],
   "source": [
    "df.info()"
   ]
  },
  {
   "cell_type": "code",
   "execution_count": 13,
   "id": "af71319a",
   "metadata": {},
   "outputs": [
    {
     "data": {
      "image/png": "[encoded data removed]",
      "text/plain": [
       "<Figure size 640x480 with 1 Axes>"
      ]
     },
     "metadata": {},
     "output_type": "display_data"
    }
   ],
   "source": [
    "df['RendaMensal'].hist();"
   ]
  },
  {
   "cell_type": "code",
   "execution_count": null,
   "id": "ab3a7940",
   "metadata": {},
   "outputs": [],
   "source": []
  },
  {
   "cell_type": "code",
   "execution_count": null,
   "id": "01347b13",
   "metadata": {},
   "outputs": [],
   "source": []
  },
  {
   "cell_type": "code",
   "execution_count": null,
   "id": "408ec704",
   "metadata": {},
   "outputs": [],
   "source": []
  }
 ],
 "metadata": {
  "kernelspec": {
   "display_name": "myenv",
   "language": "python",
   "name": "python3"
  },
  "language_info": {
   "codemirror_mode": {
    "name": "ipython",
    "version": 3
   },
   "file_extension": ".py",
   "mimetype": "text/x-python",
   "name": "python",
   "nbconvert_exporter": "python",
   "pygments_lexer": "ipython3",
   "version": "3.13.2"
  }
 },
 "nbformat": 4,
 "nbformat_minor": 5
}
